{
 "cells": [
  {
   "cell_type": "markdown",
   "id": "d3bfc191-8885-42ee-b0a0-bbab867c6f9f",
   "metadata": {
    "tags": []
   },
   "source": [
    "# Lab | Flow Control | "
   ]
  },
  {
   "cell_type": "markdown",
   "id": "3851fcd1-cf98-4653-9c89-e003b7ec9400",
   "metadata": {},
   "source": [
    "## Exercise: Managing Customer Orders Optimized\n",
    "\n",
    "In the last lab, you were starting an online store that sells various products. To ensure smooth operations, you developed a program that manages customer orders and inventory.\n",
    "\n",
    "You did so without using flow control. Let's go a step further and improve this code.\n",
    "\n",
    "Follow the steps below to complete the exercise:\n",
    "\n",
    "1. Look at your code from the lab data structures, and improve repeated code with loops.\n",
    "\n",
    "2. Instead of asking the user to input the name of three products that a customer wants to order, do the following:\n",
    "    \n",
    "    a. Prompt the user to enter the name of a product that a customer wants to order.\n",
    "    \n",
    "    b. Add the product name to the \"customer_orders\" set.\n",
    "    \n",
    "    c. Ask the user if they want to add another product (yes/no).\n",
    "    \n",
    "    d. Continue the loop until the user does not want to add another product.\n",
    "\n",
    "3. Instead of updating the inventory by subtracting 1 from the quantity of each product, only do it for  the products that were ordered (those in \"customer_orders\")."
   ]
  },
  {
   "cell_type": "code",
   "execution_count": 1,
   "id": "50c4d84c",
   "metadata": {},
   "outputs": [],
   "source": [
    "# 1. Define a list called products\n",
    "products = [\"t-shirt\", \"mug\", \"hat\", \"book\", \"keychain\"]"
   ]
  },
  {
   "cell_type": "code",
   "execution_count": 2,
   "id": "79fe2cf3",
   "metadata": {},
   "outputs": [],
   "source": [
    "# 2. Create an empty dictionary called inventory\n",
    "inventory = {}"
   ]
  },
  {
   "cell_type": "code",
   "execution_count": 3,
   "id": "9be0caa9",
   "metadata": {},
   "outputs": [
    {
     "name": "stdout",
     "output_type": "stream",
     "text": [
      "{'t-shirt': None, 'mug': None, 'hat': None, 'book': None, 'keychain': None}\n"
     ]
    }
   ],
   "source": [
    "# 3. Ask the user to input the quantity of each product available in the inventory.\n",
    "for q in products:\n",
    "    inventory[q] = None\n",
    "    \n",
    "print(inventory)"
   ]
  },
  {
   "cell_type": "code",
   "execution_count": 4,
   "id": "d6a70696",
   "metadata": {},
   "outputs": [
    {
     "name": "stdout",
     "output_type": "stream",
     "text": [
      "How much of t-shirt is available: tyjtyj\n",
      "Please enter a integer number.\n",
      "How much of t-shirt is available: tdyjmtyumyt\n",
      "Please enter a integer number.\n",
      "How much of t-shirt is available: 10.4\n",
      "Please enter a integer number.\n",
      "How much of t-shirt is available: 10\n",
      "How much of mug is available: 9\n",
      "How much of hat is available: ukrury5\n",
      "Please enter a integer number.\n",
      "How much of hat is available: 45.6\n",
      "Please enter a integer number.\n",
      "How much of hat is available: 8\n",
      "How much of book is available: 7\n",
      "How much of keychain is available: 6\n",
      "{'t-shirt': 10, 'mug': 9, 'hat': 8, 'book': 7, 'keychain': 6}\n"
     ]
    }
   ],
   "source": [
    "for value in inventory:\n",
    "    quantity = input(f\"How much of {value} is available: \")\n",
    "    while quantity.isdigit() != True:\n",
    "        print(\"Please enter a integer number.\")\n",
    "        quantity = input(f\"How much of {value} is available: \")\n",
    "    else:\n",
    "        inventory[value] = int(quantity)\n",
    "print(inventory)"
   ]
  },
  {
   "cell_type": "code",
   "execution_count": 5,
   "id": "29396739",
   "metadata": {},
   "outputs": [],
   "source": [
    "# 4. Create an empty set called customer_orders.\n",
    "customer_orders = set()"
   ]
  },
  {
   "cell_type": "code",
   "execution_count": 6,
   "id": "4b5ede2f",
   "metadata": {},
   "outputs": [
    {
     "name": "stdout",
     "output_type": "stream",
     "text": [
      "What item would you like to order?: t-shirt\n",
      "Are you done? Y for yes and N for no: keychain\n",
      "Please type only 'y' or 'n'. Are you done?: n\n",
      "What item would you like to order?: keychain\n",
      "Are you done? Y for yes and N for no: n\n",
      "What item would you like to order?: hat\n",
      "Are you done? Y for yes and N for no: n\n",
      "What item would you like to order?: book\n",
      "Are you done? Y for yes and N for no: n\n",
      "What item would you like to order?: mug\n",
      "No more products to order.\n",
      "Thank you for your order!\n",
      "{'mug', 'hat', 't-shirt', 'book', 'keychain'}\n"
     ]
    }
   ],
   "source": [
    "#a. Prompt the user to enter the name of a product that a customer wants to order.\n",
    "\n",
    "#b. Add the product name to the \"customer_orders\" set.\n",
    "\n",
    "#c. Ask the user if they want to add another product (yes/no).\n",
    "\n",
    "#d. Continue the loop until the user does not want to add another product.\n",
    "\n",
    "user_done = False\n",
    "while user_done == False:\n",
    "    products_customer = input(\"What item would you like to order?: \")\n",
    "    while products_customer not in products or products_customer in customer_orders:\n",
    "            if products_customer not in products:\n",
    "                print(\"Not valid entry\")\n",
    "                products_customer = input(\"What item would you like to order?: \")\n",
    "            elif products_customer in customer_orders:\n",
    "                print(\"No duplicates!\")\n",
    "                products_customer = input(\"What item would you like to order?: \")\n",
    "            \n",
    "    else:\n",
    "        customer_orders.add(products_customer)\n",
    "        if len(products)==len(customer_orders):\n",
    "                print(\"No more products to order.\")\n",
    "                print(\"Thank you for your order!\")\n",
    "                user_done = True\n",
    "        elif len(customer_orders) < len(products):\n",
    "            confirmation = input(\"Are you done? Y for yes and N for no: \")\n",
    "            confirmation_input = confirmation.lower().lstrip()\n",
    "                \n",
    "        while confirmation_input != 'y' and confirmation_input != 'n':\n",
    "            confirmation = input(\"Please type only 'y' or 'n'. Are you done?: \")\n",
    "            confirmation_input = confirmation.lower().lstrip()\n",
    "        else:\n",
    "            if confirmation_input == 'y':\n",
    "                print(\"Thank you for your order!\")\n",
    "                user_done = True\n",
    "            \n",
    "                    \n",
    "print(customer_orders)\n"
   ]
  },
  {
   "cell_type": "code",
   "execution_count": 7,
   "id": "fad67795",
   "metadata": {},
   "outputs": [
    {
     "name": "stdout",
     "output_type": "stream",
     "text": [
      "{'mug', 'hat', 't-shirt', 'book', 'keychain'}\n"
     ]
    }
   ],
   "source": [
    "# 6. Print the products in the customer_orders set.\n",
    "print(customer_orders)"
   ]
  },
  {
   "cell_type": "code",
   "execution_count": 8,
   "id": "7f83ac3c",
   "metadata": {},
   "outputs": [],
   "source": [
    "# 7. Calculate the following order statistics:\n",
    "# Total Products Ordered: The total number of products in the customer_orders set.\n",
    "\n",
    "x=len(customer_orders)"
   ]
  },
  {
   "cell_type": "code",
   "execution_count": 9,
   "id": "341ec7c0",
   "metadata": {},
   "outputs": [],
   "source": [
    "# Percentage of Products Ordered: The percentage of products ordered compared to the \n",
    "# total available products.\n",
    "\n",
    "y=len(products)"
   ]
  },
  {
   "cell_type": "code",
   "execution_count": 10,
   "id": "240fd1bf",
   "metadata": {},
   "outputs": [
    {
     "name": "stdout",
     "output_type": "stream",
     "text": [
      "40\n"
     ]
    }
   ],
   "source": [
    "w = sum(inventory.values())\n",
    "print(w)"
   ]
  },
  {
   "cell_type": "code",
   "execution_count": 11,
   "id": "6786f57e",
   "metadata": {},
   "outputs": [
    {
     "name": "stdout",
     "output_type": "stream",
     "text": [
      "(5, 40)\n"
     ]
    }
   ],
   "source": [
    "#Store these statistics in a tuple called order_status.\n",
    "\n",
    "\n",
    "order_status = (x,w)\n",
    "print(order_status)"
   ]
  },
  {
   "cell_type": "code",
   "execution_count": 12,
   "id": "81c55d42",
   "metadata": {},
   "outputs": [],
   "source": [
    "percentage = (order_status[0]/order_status[1])*float(100)"
   ]
  },
  {
   "cell_type": "code",
   "execution_count": 13,
   "id": "4d19dc42",
   "metadata": {},
   "outputs": [
    {
     "name": "stdout",
     "output_type": "stream",
     "text": [
      "Order Statistics:\n",
      "Total Products Ordered: 5\n",
      "Percentage of Products Ordered: 12.5 %\n"
     ]
    }
   ],
   "source": [
    "# 8. Print the order statistics using the following format:\n",
    "\n",
    "print(\"Order Statistics:\")\n",
    "print(\"Total Products Ordered:\", order_status[0])\n",
    "print(\"Percentage of Products Ordered:\", percentage,\"%\")"
   ]
  },
  {
   "cell_type": "code",
   "execution_count": 14,
   "id": "0475539a",
   "metadata": {},
   "outputs": [
    {
     "name": "stdout",
     "output_type": "stream",
     "text": [
      "{'t-shirt': 9, 'mug': 8, 'hat': 7, 'book': 6, 'keychain': 5}\n"
     ]
    }
   ],
   "source": [
    "# 9. Update the inventory by subtracting 1 from the quantity of each product. \n",
    "# Modify the inventory dictionary accordingly.\n",
    "\n",
    "for product in customer_orders:\n",
    "    inventory[product]-=1\n",
    "print(inventory)"
   ]
  },
  {
   "cell_type": "code",
   "execution_count": 15,
   "id": "7e08a22e",
   "metadata": {},
   "outputs": [
    {
     "name": "stdout",
     "output_type": "stream",
     "text": [
      "t-shirt : 9\n",
      "mug : 8\n",
      "hat : 7\n",
      "book : 6\n",
      "keychain : 5\n"
     ]
    }
   ],
   "source": [
    "# 10. Print the updated inventory, displaying the quantity of \n",
    "#each product on separate lines.\n",
    "for key,value in inventory.items():\n",
    "    print(key,\":\",value)"
   ]
  },
  {
   "cell_type": "code",
   "execution_count": null,
   "id": "36815714",
   "metadata": {},
   "outputs": [],
   "source": []
  },
  {
   "cell_type": "code",
   "execution_count": null,
   "id": "8c1f609c",
   "metadata": {},
   "outputs": [],
   "source": []
  }
 ],
 "metadata": {
  "kernelspec": {
   "display_name": "Python 3 (ipykernel)",
   "language": "python",
   "name": "python3"
  },
  "language_info": {
   "codemirror_mode": {
    "name": "ipython",
    "version": 3
   },
   "file_extension": ".py",
   "mimetype": "text/x-python",
   "name": "python",
   "nbconvert_exporter": "python",
   "pygments_lexer": "ipython3",
   "version": "3.11.5"
  }
 },
 "nbformat": 4,
 "nbformat_minor": 5
}
